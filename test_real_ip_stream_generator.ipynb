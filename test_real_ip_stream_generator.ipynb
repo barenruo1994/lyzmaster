{
 "cells": [
  {
   "cell_type": "code",
   "execution_count": 4,
   "id": "624400df",
   "metadata": {},
   "outputs": [],
   "source": [
    "import time\n",
    "import random\n",
    "import socket"
   ]
  },
  {
   "cell_type": "code",
   "execution_count": 5,
   "id": "73178f43",
   "metadata": {},
   "outputs": [],
   "source": [
    "# Function to simulate a data stream of random IP addresses\n",
    "def generate_ip_stream():\n",
    "    while True:\n",
    "        # Generate a random IP address (for demonstration purposes)\n",
    "        ip_address = \".\".join(map(str, (random.randint(0, 255) for _ in range(4))))\n",
    "        \n",
    "        # Simulate sending the IP address\n",
    "        yield ip_address\n",
    "        \n",
    "        # Introduce a delay to simulate real-time behavior\n",
    "        time.sleep(0.01)  # Sleep for 0.01 second"
   ]
  },
  {
   "cell_type": "code",
   "execution_count": 6,
   "id": "1952d9a0",
   "metadata": {},
   "outputs": [
    {
     "name": "stdout",
     "output_type": "stream",
     "text": [
      "Received IP address: 24.79.54.130\n",
      "Received IP address: 162.59.34.1\n",
      "Received IP address: 184.14.66.182\n",
      "Received IP address: 177.89.34.13\n",
      "Received IP address: 10.35.38.229\n",
      "Received IP address: 210.114.63.222\n",
      "Received IP address: 185.22.53.40\n",
      "Received IP address: 235.48.243.192\n",
      "Received IP address: 89.241.254.48\n",
      "Received IP address: 8.35.33.166\n"
     ]
    }
   ],
   "source": [
    "# Create a generator object for the IP address stream\n",
    "ip_stream = generate_ip_stream()\n",
    "\n",
    "# Read and process IP addresses from the stream\n",
    "for _ in range(10):  # Read 10 IP addresses for this example\n",
    "    ip_address = next(ip_stream)\n",
    "    print(f\"Received IP address: {ip_address}\")"
   ]
  },
  {
   "cell_type": "code",
   "execution_count": null,
   "id": "e9fc2aca",
   "metadata": {},
   "outputs": [],
   "source": []
  }
 ],
 "metadata": {
  "kernelspec": {
   "display_name": "Python 3 (ipykernel)",
   "language": "python",
   "name": "python3"
  },
  "language_info": {
   "codemirror_mode": {
    "name": "ipython",
    "version": 3
   },
   "file_extension": ".py",
   "mimetype": "text/x-python",
   "name": "python",
   "nbconvert_exporter": "python",
   "pygments_lexer": "ipython3",
   "version": "3.9.12"
  }
 },
 "nbformat": 4,
 "nbformat_minor": 5
}
