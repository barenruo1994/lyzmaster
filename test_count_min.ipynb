{
 "cells": [
  {
   "cell_type": "code",
   "execution_count": 1,
   "id": "d07f0748",
   "metadata": {},
   "outputs": [],
   "source": [
    "import numpy as np\n",
    "from countminsketch import CountMinSketch"
   ]
  },
  {
   "cell_type": "code",
   "execution_count": 13,
   "id": "8a7ec7b0",
   "metadata": {},
   "outputs": [],
   "source": [
    "# Initialize a Count-Min Sketch with specified parameters (e.g., width and depth).\n",
    "width = 1000# 储存空间\n",
    "depth = 5# H 个数\n",
    "cms = CountMinSketch(width, depth)"
   ]
  },
  {
   "cell_type": "code",
   "execution_count": 14,
   "id": "bcc378a3",
   "metadata": {
    "collapsed": true
   },
   "outputs": [
    {
     "name": "stdout",
     "output_type": "stream",
     "text": [
      "-5381072235028518952\n",
      "-8314013063980471386\n",
      "7450152786151243537\n",
      "-3984978419281559450\n",
      "-7596204652519284389\n",
      "-5381072235028518952\n",
      "-8314013063980471386\n",
      "7450152786151243537\n",
      "-3984978419281559450\n",
      "-7596204652519284389\n",
      "-5381072235028518952\n",
      "-8314013063980471386\n",
      "7450152786151243537\n",
      "-3984978419281559450\n",
      "-7596204652519284389\n",
      "4469076416935869100\n",
      "-5509893700650940159\n",
      "-1146442635593920027\n",
      "1466812849698460474\n",
      "-9190442672174121290\n",
      "4469076416935869100\n",
      "-5509893700650940159\n",
      "-1146442635593920027\n",
      "1466812849698460474\n",
      "-9190442672174121290\n",
      "-3271059500481963148\n",
      "-6204000329433915582\n",
      "-8886578553011752275\n",
      "-1874965684735003646\n",
      "-5486191917972728585\n",
      "-3271059500481963148\n",
      "-6204000329433915582\n",
      "-8886578553011752275\n",
      "-1874965684735003646\n",
      "-5486191917972728585\n",
      "-5381072235028518952\n",
      "-8314013063980471386\n",
      "7450152786151243537\n",
      "-3984978419281559450\n",
      "-7596204652519284389\n",
      "-3271059500481963148\n",
      "-6204000329433915582\n",
      "-8886578553011752275\n",
      "-1874965684735003646\n",
      "-5486191917972728585\n",
      "The estimated frequency of 1 is 3.The estimated frequency of 5 is 2\n"
     ]
    }
   ],
   "source": [
    "# 添加数据到Count-Min算法\n",
    "data = [1,1,1,2,2,5,5]\n",
    "for item in data:\n",
    "    cms.add(item)\n",
    "\n",
    "# 查询元素的频率\n",
    "element1 = 1\n",
    "element2 = 5\n",
    "frequency_estimate1 = cms.query(element1)\n",
    "frequency_estimate2 = cms.query(element2)\n",
    "print(f\"The estimated frequency of {element1} is {frequency_estimate1}.The estimated frequency of {element2} is {frequency_estimate2}\")"
   ]
  },
  {
   "cell_type": "code",
   "execution_count": 12,
   "id": "7648d274",
   "metadata": {
    "collapsed": true
   },
   "outputs": [
    {
     "name": "stdout",
     "output_type": "stream",
     "text": [
      "3663601623989982949\n",
      "-3218530152749074109\n",
      "4769004363342922\n",
      "-6469443966990827071\n",
      "546670294525916669\n",
      "6056611567640273588\n",
      "1822151696551705227\n",
      "2397778948013633561\n",
      "-1428762117690047735\n",
      "-8461034546898487483\n",
      "3663601623989982949\n",
      "-3218530152749074109\n",
      "4769004363342922\n",
      "-6469443966990827071\n",
      "546670294525916669\n",
      "5731447441216157659\n",
      "5895344953111957426\n",
      "2072614821589517632\n",
      "2644431138870204464\n",
      "-4387841290338235284\n",
      "6056611567640273588\n",
      "1822151696551705227\n",
      "2397778948013633561\n",
      "-1428762117690047735\n",
      "-8461034546898487483\n",
      "3663601623989982949\n",
      "-3218530152749074109\n",
      "4769004363342922\n",
      "-6469443966990827071\n",
      "546670294525916669\n",
      "3663601623989982949\n",
      "-3218530152749074109\n",
      "4769004363342922\n",
      "-6469443966990827071\n",
      "546670294525916669\n",
      "6056611567640273588\n",
      "1822151696551705227\n",
      "2397778948013633561\n",
      "-1428762117690047735\n",
      "-8461034546898487483\n",
      "The estimated frequency of apple is 3.The estimated frequency of banana is 2\n"
     ]
    }
   ],
   "source": [
    "# 添加数据到Count-Min算法\n",
    "data = [\"apple\", \"banana\", \"apple\", \"cherry\", \"banana\", \"apple\"]\n",
    "for item in data:\n",
    "    cms.add(item)\n",
    "\n",
    "# 查询元素的频率\n",
    "element1 = \"apple\"\n",
    "element2 = \"banana\"\n",
    "frequency_estimate1 = cms.query(element1)\n",
    "frequency_estimate2 = cms.query(element2)\n",
    "print(f\"The estimated frequency of {element1} is {frequency_estimate1}.The estimated frequency of {element2} is {frequency_estimate2}\")"
   ]
  },
  {
   "cell_type": "code",
   "execution_count": null,
   "id": "3daf1fb6",
   "metadata": {},
   "outputs": [],
   "source": []
  }
 ],
 "metadata": {
  "kernelspec": {
   "display_name": "Python 3 (ipykernel)",
   "language": "python",
   "name": "python3"
  },
  "language_info": {
   "codemirror_mode": {
    "name": "ipython",
    "version": 3
   },
   "file_extension": ".py",
   "mimetype": "text/x-python",
   "name": "python",
   "nbconvert_exporter": "python",
   "pygments_lexer": "ipython3",
   "version": "3.9.12"
  }
 },
 "nbformat": 4,
 "nbformat_minor": 5
}
